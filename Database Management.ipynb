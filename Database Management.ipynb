{
 "cells": [
  {
   "cell_type": "code",
   "execution_count": 1,
   "id": "ba03d710-f6f7-4f60-a04a-b9f8e8cd01e1",
   "metadata": {},
   "outputs": [
    {
     "name": "stdout",
     "output_type": "stream",
     "text": [
      "(50000, 10)\n",
      "Index(['Name', 'Degree', 'Institution', 'Graduation_Year', 'Employer',\n",
      "       'Job_Title', 'Contact_Email', 'Invalid_Graduation_Year',\n",
      "       'Institution_Valid', 'Verification_Status'],\n",
      "      dtype='object')\n"
     ]
    }
   ],
   "source": [
    "import pandas as pd\n",
    "df = pd.read_csv('employee_background_validated.csv')\n",
    "print(df.shape)\n",
    "print(df.columns)"
   ]
  },
  {
   "cell_type": "code",
   "execution_count": 2,
   "id": "bea0d149-dc9c-43ef-b709-fc7509f34161",
   "metadata": {},
   "outputs": [
    {
     "name": "stdout",
     "output_type": "stream",
     "text": [
      "Flagged due to invalid graduation year: 0\n",
      "Flagged due to unaccredited institution: 24987\n"
     ]
    }
   ],
   "source": [
    "flagged = df[df['Verification_Status'] == 'Flagged']\n",
    "print(\"Flagged due to invalid graduation year:\", flagged['Invalid_Graduation_Year'].sum())\n",
    "print(\"Flagged due to unaccredited institution:\", (~flagged['Institution_Valid']).sum())"
   ]
  },
  {
   "cell_type": "code",
   "execution_count": 3,
   "id": "717f5ef1-6173-407e-bc85-39ae4fda0ccd",
   "metadata": {},
   "outputs": [
    {
     "name": "stdout",
     "output_type": "stream",
     "text": [
      "Sample Flagged records:\n",
      "             Institution  Graduation_Year Verification_Status\n",
      "2       Yale University             1996             Flagged\n",
      "4  Princeton University             1993             Flagged\n",
      "7       Yale University             1995             Flagged\n",
      "8  Princeton University             2020             Flagged\n",
      "9  Princeton University             2019             Flagged\n",
      "Sample Verified records:\n",
      "             Institution  Graduation_Year Verification_Status\n",
      "0                   MIT             2014            Verified\n",
      "1    Harvard University             2010            Verified\n",
      "3  University of Oxford             2014            Verified\n",
      "5                   MIT             2022            Verified\n",
      "6   Stanford University             2002            Verified\n"
     ]
    }
   ],
   "source": [
    "print(\"Sample Flagged records:\\n\", flagged[['Institution', 'Graduation_Year', 'Verification_Status']].head())\n",
    "print(\"Sample Verified records:\\n\", df[df['Verification_Status'] == 'Verified'][['Institution', 'Graduation_Year', 'Verification_Status']].head())"
   ]
  },
  {
   "cell_type": "code",
   "execution_count": 4,
   "id": "1f1bcd08-ef0c-4d2a-b45e-e2e1197f9846",
   "metadata": {},
   "outputs": [],
   "source": [
    "accredited_institutions = ['Harvard University', 'Stanford University', 'MIT', 'University of Oxford', 'University of Cambridge', 'ETH Zurich', 'Yale University']"
   ]
  },
  {
   "cell_type": "code",
   "execution_count": 5,
   "id": "2d069756-3ebf-43b8-90bb-4227868d50b0",
   "metadata": {},
   "outputs": [
    {
     "name": "stdout",
     "output_type": "stream",
     "text": [
      "Validated dataset loaded. Shape: (50000, 10)\n"
     ]
    }
   ],
   "source": [
    "import pandas as pd\n",
    "import sqlite3\n",
    "\n",
    "# Load validated dataset\n",
    "df = pd.read_csv('employee_background_validated.csv')\n",
    "print(\"Validated dataset loaded. Shape:\", df.shape)"
   ]
  },
  {
   "cell_type": "code",
   "execution_count": 6,
   "id": "3c60a325-27da-412b-86b0-77794448a5b2",
   "metadata": {},
   "outputs": [
    {
     "name": "stdout",
     "output_type": "stream",
     "text": [
      "Data stored in 'employees' table\n"
     ]
    }
   ],
   "source": [
    "# Connect to SQLite database\n",
    "conn = sqlite3.connect('employee_background.db')\n",
    "\n",
    "# Store validated data in 'employees' table\n",
    "df.to_sql('employees', conn, if_exists='replace', index=False)\n",
    "print(\"Data stored in 'employees' table\")"
   ]
  },
  {
   "cell_type": "code",
   "execution_count": 7,
   "id": "a3564af2-a2b8-4eac-baff-8ccb1b9d4334",
   "metadata": {},
   "outputs": [
    {
     "name": "stdout",
     "output_type": "stream",
     "text": [
      "Accredited institutions stored in 'accredited_institutions' table\n"
     ]
    }
   ],
   "source": [
    "# Define accredited institutions (same as Step 2)\n",
    "accredited_institutions = ['Harvard University', 'Stanford University', 'MIT', 'University of Oxford', 'University of Cambridge']\n",
    "\n",
    "# Create DataFrame and store in 'accredited_institutions' table\n",
    "accredited_df = pd.DataFrame({'Institution': accredited_institutions})\n",
    "accredited_df.to_sql('accredited_institutions', conn, if_exists='replace', index=False)\n",
    "print(\"Accredited institutions stored in 'accredited_institutions' table\")"
   ]
  },
  {
   "cell_type": "code",
   "execution_count": 8,
   "id": "fa59f110-9bb1-4a04-82cb-fb2438f39fa6",
   "metadata": {},
   "outputs": [
    {
     "name": "stdout",
     "output_type": "stream",
     "text": [
      "Employees graduated before 2000 (first 5 rows):\n"
     ]
    },
    {
     "data": {
      "text/html": [
       "<div>\n",
       "<style scoped>\n",
       "    .dataframe tbody tr th:only-of-type {\n",
       "        vertical-align: middle;\n",
       "    }\n",
       "\n",
       "    .dataframe tbody tr th {\n",
       "        vertical-align: top;\n",
       "    }\n",
       "\n",
       "    .dataframe thead th {\n",
       "        text-align: right;\n",
       "    }\n",
       "</style>\n",
       "<table border=\"1\" class=\"dataframe\">\n",
       "  <thead>\n",
       "    <tr style=\"text-align: right;\">\n",
       "      <th></th>\n",
       "      <th>Name</th>\n",
       "      <th>Institution</th>\n",
       "      <th>Graduation_Year</th>\n",
       "    </tr>\n",
       "  </thead>\n",
       "  <tbody>\n",
       "    <tr>\n",
       "      <th>0</th>\n",
       "      <td>Jennifer Perez</td>\n",
       "      <td>Yale University</td>\n",
       "      <td>1996</td>\n",
       "    </tr>\n",
       "    <tr>\n",
       "      <th>1</th>\n",
       "      <td>Lauren Smith</td>\n",
       "      <td>Princeton University</td>\n",
       "      <td>1993</td>\n",
       "    </tr>\n",
       "    <tr>\n",
       "      <th>2</th>\n",
       "      <td>James Le</td>\n",
       "      <td>Yale University</td>\n",
       "      <td>1995</td>\n",
       "    </tr>\n",
       "    <tr>\n",
       "      <th>3</th>\n",
       "      <td>Linda Pruitt</td>\n",
       "      <td>MIT</td>\n",
       "      <td>1997</td>\n",
       "    </tr>\n",
       "    <tr>\n",
       "      <th>4</th>\n",
       "      <td>Clifford Cook</td>\n",
       "      <td>University of Cambridge</td>\n",
       "      <td>1994</td>\n",
       "    </tr>\n",
       "  </tbody>\n",
       "</table>\n",
       "</div>"
      ],
      "text/plain": [
       "             Name              Institution  Graduation_Year\n",
       "0  Jennifer Perez          Yale University             1996\n",
       "1    Lauren Smith     Princeton University             1993\n",
       "2        James Le          Yale University             1995\n",
       "3    Linda Pruitt                      MIT             1997\n",
       "4   Clifford Cook  University of Cambridge             1994"
      ]
     },
     "execution_count": 8,
     "metadata": {},
     "output_type": "execute_result"
    }
   ],
   "source": [
    "query1 = \"SELECT Name, Institution, Graduation_Year FROM employees WHERE Graduation_Year < 2000\"\n",
    "result1 = pd.read_sql_query(query1, conn)\n",
    "print(\"Employees graduated before 2000 (first 5 rows):\")\n",
    "result1.head()"
   ]
  },
  {
   "cell_type": "code",
   "execution_count": 9,
   "id": "214e3593-d393-4bb5-9240-e20bbe6fba96",
   "metadata": {},
   "outputs": [
    {
     "name": "stdout",
     "output_type": "stream",
     "text": [
      "Number of employees with unaccredited institutions:\n"
     ]
    },
    {
     "data": {
      "text/html": [
       "<div>\n",
       "<style scoped>\n",
       "    .dataframe tbody tr th:only-of-type {\n",
       "        vertical-align: middle;\n",
       "    }\n",
       "\n",
       "    .dataframe tbody tr th {\n",
       "        vertical-align: top;\n",
       "    }\n",
       "\n",
       "    .dataframe thead th {\n",
       "        text-align: right;\n",
       "    }\n",
       "</style>\n",
       "<table border=\"1\" class=\"dataframe\">\n",
       "  <thead>\n",
       "    <tr style=\"text-align: right;\">\n",
       "      <th></th>\n",
       "      <th>unaccredited_count</th>\n",
       "    </tr>\n",
       "  </thead>\n",
       "  <tbody>\n",
       "    <tr>\n",
       "      <th>0</th>\n",
       "      <td>24987</td>\n",
       "    </tr>\n",
       "  </tbody>\n",
       "</table>\n",
       "</div>"
      ],
      "text/plain": [
       "   unaccredited_count\n",
       "0               24987"
      ]
     },
     "execution_count": 9,
     "metadata": {},
     "output_type": "execute_result"
    }
   ],
   "source": [
    "query2 = \"\"\"\n",
    "SELECT COUNT(*) AS unaccredited_count \n",
    "FROM employees \n",
    "WHERE Institution NOT IN (SELECT Institution FROM accredited_institutions)\n",
    "\"\"\"\n",
    "result2 = pd.read_sql_query(query2, conn)\n",
    "print(\"Number of employees with unaccredited institutions:\")\n",
    "result2"
   ]
  },
  {
   "cell_type": "code",
   "execution_count": 10,
   "id": "d4281141-1644-43b7-b8fd-ea0c4c772741",
   "metadata": {},
   "outputs": [
    {
     "name": "stdout",
     "output_type": "stream",
     "text": [
      "Database connection closed\n"
     ]
    }
   ],
   "source": [
    "conn.close()\n",
    "print(\"Database connection closed\")"
   ]
  }
 ],
 "metadata": {
  "kernelspec": {
   "display_name": "Python 3 (ipykernel)",
   "language": "python",
   "name": "python3"
  },
  "language_info": {
   "codemirror_mode": {
    "name": "ipython",
    "version": 3
   },
   "file_extension": ".py",
   "mimetype": "text/x-python",
   "name": "python",
   "nbconvert_exporter": "python",
   "pygments_lexer": "ipython3",
   "version": "3.11.7"
  }
 },
 "nbformat": 4,
 "nbformat_minor": 5
}
