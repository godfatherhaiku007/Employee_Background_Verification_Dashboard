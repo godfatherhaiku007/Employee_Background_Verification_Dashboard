{
 "cells": [
  {
   "cell_type": "code",
   "execution_count": 1,
   "id": "c18d1e50-b4c9-4f8c-8f53-f6ad0a351384",
   "metadata": {},
   "outputs": [],
   "source": [
    "import pandas as pd"
   ]
  },
  {
   "cell_type": "code",
   "execution_count": 2,
   "id": "b9f26bbf-182d-499b-a13f-ca8f0aa1ce36",
   "metadata": {},
   "outputs": [
    {
     "name": "stdout",
     "output_type": "stream",
     "text": [
      "Dataset loaded. First 5 rows:\n",
      "                 Name    Degree           Institution  Graduation_Year  \\\n",
      "0    Miss Julie Dunn       PhD                   MIT             2014   \n",
      "1       Joel Jenkins  Bachelor    Harvard University             2010   \n",
      "2     Jennifer Perez  Bachelor       Yale University             1996   \n",
      "3  Jessica Hernandez    Master  University of Oxford             2014   \n",
      "4       Lauren Smith    Master  Princeton University             1993   \n",
      "\n",
      "          Employer   Job_Title                  Contact_Email  \n",
      "0  Consulting Firm  Consultant  christophermartin@example.net  \n",
      "1      Media House     Analyst             npitts@example.org  \n",
      "2      Media House     Analyst    melissamitchell@example.com  \n",
      "3      Finance Ltd     Manager          ypeterson@example.com  \n",
      "4  Education Group  Consultant         martineric@example.org  \n"
     ]
    }
   ],
   "source": [
    "df = pd.read_csv('employee_background.csv')\n",
    "print(\"Dataset loaded. First 5 rows:\\n\", df.head())"
   ]
  },
  {
   "cell_type": "code",
   "execution_count": 3,
   "id": "170d7c52-4256-4cd0-bed6-b14886ea8284",
   "metadata": {},
   "outputs": [
    {
     "name": "stdout",
     "output_type": "stream",
     "text": [
      "\n",
      "Missing values:\n",
      " Name               0\n",
      "Degree             0\n",
      "Institution        0\n",
      "Graduation_Year    0\n",
      "Employer           0\n",
      "Job_Title          0\n",
      "Contact_Email      0\n",
      "dtype: int64\n"
     ]
    }
   ],
   "source": [
    "print(\"\\nMissing values:\\n\", df.isnull().sum())"
   ]
  },
  {
   "cell_type": "code",
   "execution_count": 4,
   "id": "2dfe6be7-d228-441d-9686-9cd4238c30c7",
   "metadata": {},
   "outputs": [
    {
     "name": "stdout",
     "output_type": "stream",
     "text": [
      "\n",
      "NaN values in Graduation_Year after conversion: 0\n"
     ]
    }
   ],
   "source": [
    "df['Graduation_Year'] = pd.to_numeric(df['Graduation_Year'], errors='coerce')\n",
    "\n",
    "print(\"\\nNaN values in Graduation_Year after conversion:\", df['Graduation_Year'].isnull().sum())"
   ]
  },
  {
   "cell_type": "code",
   "execution_count": 5,
   "id": "6b61906c-308f-4211-85cb-aa8a5078177e",
   "metadata": {},
   "outputs": [],
   "source": [
    "current_year = 2025\n",
    "\n",
    "df['Invalid_Graduation_Year'] = df['Graduation_Year'] > current_year\n",
    "\n",
    "accredited_institutions = ['Harvard University', 'Stanford University', 'MIT', 'University of Oxford', 'University of Cambridge']\n",
    "\n",
    "df['Institution_Valid'] = df['Institution'].isin(accredited_institutions)"
   ]
  },
  {
   "cell_type": "code",
   "execution_count": 6,
   "id": "f206b2d7-d8e6-4b0f-8c8a-84c8f3615595",
   "metadata": {},
   "outputs": [],
   "source": [
    "df['Verification_Status'] = 'Verified'\n",
    "\n",
    "df.loc[df['Invalid_Graduation_Year'] | ~df['Institution_Valid'], 'Verification_Status'] = 'Flagged'"
   ]
  },
  {
   "cell_type": "code",
   "execution_count": 7,
   "id": "f4ce83cc-eca9-4637-904a-12c94c017628",
   "metadata": {},
   "outputs": [
    {
     "name": "stdout",
     "output_type": "stream",
     "text": [
      "\n",
      "Validated dataset saved as 'employee_background_validated.csv'\n",
      "\n",
      "Verification status counts:\n",
      " Verification_Status\n",
      "Verified    25013\n",
      "Flagged     24987\n",
      "Name: count, dtype: int64\n"
     ]
    }
   ],
   "source": [
    "df.to_csv('employee_background_validated.csv', index=False)\n",
    "print(\"\\nValidated dataset saved as 'employee_background_validated.csv'\")\n",
    "print(\"\\nVerification status counts:\\n\", df['Verification_Status'].value_counts())"
   ]
  }
 ],
 "metadata": {
  "kernelspec": {
   "display_name": "Python 3 (ipykernel)",
   "language": "python",
   "name": "python3"
  },
  "language_info": {
   "codemirror_mode": {
    "name": "ipython",
    "version": 3
   },
   "file_extension": ".py",
   "mimetype": "text/x-python",
   "name": "python",
   "nbconvert_exporter": "python",
   "pygments_lexer": "ipython3",
   "version": "3.11.7"
  }
 },
 "nbformat": 4,
 "nbformat_minor": 5
}
