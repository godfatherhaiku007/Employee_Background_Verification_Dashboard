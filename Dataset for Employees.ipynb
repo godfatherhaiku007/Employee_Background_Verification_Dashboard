{
 "cells": [
  {
   "cell_type": "code",
   "execution_count": 8,
   "id": "7905049d-5834-4e68-b8a1-9a0cd43d98f0",
   "metadata": {},
   "outputs": [],
   "source": [
    "import pandas as pd\n",
    "from faker import Faker\n",
    "import random"
   ]
  },
  {
   "cell_type": "code",
   "execution_count": 7,
   "id": "6c6f6b84-b995-49a5-9309-da8b03efe35f",
   "metadata": {},
   "outputs": [],
   "source": [
    "fake = Faker()\n",
    "\n",
    "# Define categorical lists\n",
    "degrees = ['Bachelor', 'Master', 'PhD', 'Diploma']\n",
    "institutions = ['Harvard University', 'Stanford University', 'MIT', 'University of Oxford', 'University of Cambridge', 'ETH Zurich', 'California Institute of Technology', 'University of Chicago', 'Princeton University', 'Yale University']\n",
    "employers = ['Tech Corp', 'Health Inc', 'Finance Ltd', 'Education Group', 'Retail Co', 'Manufacturing PLC', 'Service LLC', 'Consulting Firm', 'Media House', 'Energy Solutions']\n",
    "job_titles = ['Software Engineer', 'Data Scientist', 'Manager', 'Analyst', 'Consultant', 'Designer', 'Developer', 'Researcher', 'Engineer', 'Specialist']"
   ]
  },
  {
   "cell_type": "code",
   "execution_count": 6,
   "id": "7449be7c-f07e-4571-acee-3d74f9985248",
   "metadata": {},
   "outputs": [],
   "source": [
    "# Generating records\n",
    "n = 50000\n",
    "data = {\n",
    "    'Name': [fake.name() for _ in range(n)],\n",
    "    'Degree': [random.choice(degrees) for _ in range(n)],\n",
    "    'Institution': [random.choice(institutions) for _ in range(n)],\n",
    "    'Graduation_Year': [random.randint(1990, 2025) for _ in range(n)],\n",
    "    'Employer': [random.choice(employers) for _ in range(n)],\n",
    "    'Job_Title': [random.choice(job_titles) for _ in range(n)],\n",
    "    'Contact_Email': [fake.email() for _ in range(n)]\n",
    "}"
   ]
  },
  {
   "cell_type": "code",
   "execution_count": 5,
   "id": "6789b6c1-e85d-4cdc-8658-bd80bc4320d3",
   "metadata": {},
   "outputs": [
    {
     "name": "stdout",
     "output_type": "stream",
     "text": [
      "Dataset created and saved as 'employee_background.csv'\n"
     ]
    }
   ],
   "source": [
    "# Create DataFrame and save to CSV\n",
    "df = pd.DataFrame(data)\n",
    "df.to_csv('employee_background.csv', index=False)\n",
    "print(\"Dataset created and saved as 'employee_background.csv'\")"
   ]
  }
 ],
 "metadata": {
  "kernelspec": {
   "display_name": "Python 3 (ipykernel)",
   "language": "python",
   "name": "python3"
  },
  "language_info": {
   "codemirror_mode": {
    "name": "ipython",
    "version": 3
   },
   "file_extension": ".py",
   "mimetype": "text/x-python",
   "name": "python",
   "nbconvert_exporter": "python",
   "pygments_lexer": "ipython3",
   "version": "3.11.7"
  }
 },
 "nbformat": 4,
 "nbformat_minor": 5
}
