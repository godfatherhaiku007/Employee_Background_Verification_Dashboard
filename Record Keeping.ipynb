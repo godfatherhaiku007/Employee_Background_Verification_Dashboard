{
 "cells": [
  {
   "cell_type": "code",
   "execution_count": 1,
   "id": "a5ab3952-ce30-4536-83e9-540aa0c8e9bf",
   "metadata": {},
   "outputs": [],
   "source": [
    "import pandas as pd"
   ]
  },
  {
   "cell_type": "code",
   "execution_count": 2,
   "id": "f16d0a40-809a-4bd0-a1d4-cc7d2a1bb1c9",
   "metadata": {},
   "outputs": [
    {
     "name": "stdout",
     "output_type": "stream",
     "text": [
      "Validated dataset loaded. Shape: (50000, 10)\n",
      "Columns: ['Name', 'Degree', 'Institution', 'Graduation_Year', 'Employer', 'Job_Title', 'Contact_Email', 'Invalid_Graduation_Year', 'Institution_Valid', 'Verification_Status']\n"
     ]
    }
   ],
   "source": [
    "df = pd.read_csv('employee_background_validated.csv')\n",
    "print(\"Validated dataset loaded. Shape:\", df.shape)\n",
    "print(\"Columns:\", df.columns.tolist())"
   ]
  },
  {
   "cell_type": "code",
   "execution_count": 3,
   "id": "bad70f66-a39e-4c1c-ac6b-3f6c150b69aa",
   "metadata": {},
   "outputs": [
    {
     "name": "stdout",
     "output_type": "stream",
     "text": [
      "Data exported to 'employee_background.xlsx'\n"
     ]
    }
   ],
   "source": [
    "df.to_excel('employee_background.xlsx', index=False, engine='openpyxl')\n",
    "print(\"Data exported to 'employee_background.xlsx'\")"
   ]
  }
 ],
 "metadata": {
  "kernelspec": {
   "display_name": "Python 3 (ipykernel)",
   "language": "python",
   "name": "python3"
  },
  "language_info": {
   "codemirror_mode": {
    "name": "ipython",
    "version": 3
   },
   "file_extension": ".py",
   "mimetype": "text/x-python",
   "name": "python",
   "nbconvert_exporter": "python",
   "pygments_lexer": "ipython3",
   "version": "3.11.7"
  }
 },
 "nbformat": 4,
 "nbformat_minor": 5
}
